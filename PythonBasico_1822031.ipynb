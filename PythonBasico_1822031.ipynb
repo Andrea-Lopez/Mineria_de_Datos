{
 "cells": [
  {
   "cell_type": "markdown",
   "metadata": {},
   "source": [
    "### EJERCICIO 1:\n",
    "- Realiza una variable con tu matricula y realiza una secuencia de imprimir con tu nombre y tu matricula concatenados."
   ]
  },
  {
   "cell_type": "code",
   "execution_count": 8,
   "metadata": {},
   "outputs": [
    {
     "name": "stdout",
     "output_type": "stream",
     "text": [
      "Mi nombre es Andrea Lopez Solis y mi matricula es 1822031\n",
      "1822031 Andrea Lopez Solis\n"
     ]
    }
   ],
   "source": [
    "#CONDIGO QUE MUESTRA DOS CADENAS CONCATENADAS O JUNTAS EN UNA MISMA LINEA\n",
    "matricula=\"1822031\"\n",
    "nombre=\"Andrea Lopez Solis\"\n",
    "print(\"Mi nombre es\",nom, \"y mi matricula es\",mat)  #Forma 1 de imprimir concatenado \n",
    "variable= matricula +\" \"+ nombre \n",
    "print(variable) #Forma 2 de imprimir concatenado "
   ]
  },
  {
   "cell_type": "markdown",
   "metadata": {},
   "source": [
    "### EJERCICIO 2:\n",
    "- Pidiendo el input del usuario pide dos números y crea una pequeña calculadora con los operadores básicos de suma, resta, multiplicación, división, y exponente."
   ]
  },
  {
   "cell_type": "code",
   "execution_count": 33,
   "metadata": {},
   "outputs": [
    {
     "name": "stdout",
     "output_type": "stream",
     "text": [
      "---------- MENU DE OPCIONES ----------\n",
      " 1. Suma\n",
      " 2. Resta\n",
      " 3. Multiplicacion\n",
      " 4. Division \n",
      " 5. Exponencial\n",
      "--------------------------------------\n",
      "Seleccione una opcion-->3\n",
      "Introduzca un número:5\n",
      "Introduzca otro número: 4\n",
      "La multiplicacion de 5 * 4 es: 20\n"
     ]
    }
   ],
   "source": [
    "#CODIGO QUE PERMITE REALIZAR LAS OPERACIONES DE UNA CALCULADORA, UNA OPERACION A LA VEZ \n",
    "\n",
    "#Calculadora\n",
    "    \n",
    "print(\"---------- MENU DE OPCIONES ----------\")\n",
    "print(\" 1. Suma\")\n",
    "print(\" 2. Resta\")\n",
    "print(\" 3. Multiplicacion\")\n",
    "print(\" 4. Division \")\n",
    "print(\" 5. Exponencial\")\n",
    "print(\"--------------------------------------\")\n",
    "op= int(input(\"Seleccione una opcion-->\"))  #Le pide al usuario que ingrese la opcion que quiere realizar solo 1\n",
    "\n",
    "if (op>0 and op<6):\n",
    "    \n",
    "    n1 = int(input(\"Introduzca un número:\" ))\n",
    "    n2 = int(input(\"Introduzca otro número: \"))\n",
    "    \n",
    "    if(op==1):\n",
    "        print(\"La suma de\",n1,\"+\",n2,\"es:\",n1+n2)\n",
    "\n",
    "    elif(op==2):\n",
    "        print(\"La resta de\",n1,\"-\",n2,\"es:\",n1-n2)\n",
    "        print(\"La resta de\",n2,\"-\",n1,\"es:\",n2-n1) \n",
    "    \n",
    "    elif(op==3):\n",
    "        print(\"La multiplicacion de\",n1,\"*\",n2,\"es:\",n1*n2)\n",
    "                    \n",
    "    elif(op==4):\n",
    "        print(\"La division de\",n1,\"/\",n2,\"es:\",n1/n2)\n",
    "        print(\"La division de\",n2,\"/\",n1,\"es:\",n2/n1)\n",
    "                    \n",
    "    elif(op==5):\n",
    "        print(\"La exponencial de\",n1,\"^{\",n2,\"} es:\",n1**n2)\n",
    "        print(\"La exponencial de\",n2,\"^{\",n1,\"} es:\",n2**n1)\n",
    "else:\n",
    "    print(\"opcion no valida\")\n",
    "    "
   ]
  },
  {
   "cell_type": "markdown",
   "metadata": {},
   "source": [
    "### EJERCICIO 3:\n",
    "- Con loop while o for, realiza una lista de 10 numeros multiplos de 3, y después realiza una función de loop que sume todos los números dentro del arreglo."
   ]
  },
  {
   "cell_type": "code",
   "execution_count": 5,
   "metadata": {},
   "outputs": [
    {
     "name": "stdout",
     "output_type": "stream",
     "text": [
      "Introduzca un numero:1\n",
      "3\n",
      "Introduzca un numero:2\n",
      "6\n",
      "Introduzca un numero:3\n",
      "9\n",
      "Introduzca un numero:4\n",
      "12\n",
      "Introduzca un numero:5\n",
      "15\n",
      "Introduzca un numero:6\n",
      "18\n",
      "Introduzca un numero:7\n",
      "21\n",
      "Introduzca un numero:8\n",
      "24\n",
      "Introduzca un numero:9\n",
      "27\n",
      "Introduzca un numero:10\n",
      "30\n",
      "La suma de los numeros haciendiolos multiplos de 3 es: 165\n"
     ]
    }
   ],
   "source": [
    "suma=0 #Declaramos una variable y la inicalizamos en 0 para ir guardando los numeros\n",
    "\n",
    "for i in list(range(0,10)):\n",
    "    nmul=int(input(\"Introduzca un numero entero:\")) #le pedimos al usuario que ingrese un numero \n",
    "    nmul=nmul*3 #hacemos ese numero multiplo de 3 \n",
    "    suma=suma+nmul\n",
    "    print(nmul) #imprime el numero multiplo de 3 \n",
    "print(\"La suma de los numeros haciendiolos multiplos de 3 es:\",suma)\n",
    "\n",
    "    "
   ]
  },
  {
   "cell_type": "markdown",
   "metadata": {},
   "source": [
    "### EJEMPLO 4:\n",
    "- Con una función de if else, revisar si un número es par o es impar.\n",
    "- Con una función de if else, revisar si un número es primo o no."
   ]
  },
  {
   "cell_type": "code",
   "execution_count": 1,
   "metadata": {},
   "outputs": [
    {
     "name": "stdout",
     "output_type": "stream",
     "text": [
      "Introduzca un número:4\n",
      "El numero 4 es par\n"
     ]
    }
   ],
   "source": [
    "#CODIGO QUE MUESTRA SI UN NUMERO ES PAR O IMPAR\n",
    "n = int(input(\"Introduzca un número:\" )) #Le pedimos al usuario que ingrese un numero\n",
    "if n % 2 == 0:  #condicion para saber si un numero es par\n",
    "    print(\"El numero\",n,\"es par\")\n",
    "else:\n",
    "    print(\"El numero\",n,\"es impar\")\n"
   ]
  },
  {
   "cell_type": "code",
   "execution_count": 3,
   "metadata": {},
   "outputs": [
    {
     "name": "stdout",
     "output_type": "stream",
     "text": [
      "Ingrese un numero entero:6\n",
      "\n",
      "El numero 6 no es primo\n"
     ]
    }
   ],
   "source": [
    "#CODIGO QUE MUESTRA SI UN NUMERO ES PRIMO O NO\n",
    "#APOYO DEL URL: https://www.lawebdelprogramador.com/codigo/Python/2413-Determinar-si-un-numero-es-primo-o-no.html\n",
    "\n",
    "\n",
    "num=int(input(\"Ingrese un numero entero:\")) #pedimos al usuario que ingrese un numero\n",
    "\n",
    "def verificar(num): #definimos una funcion para que nos regrese el numero que cumple con la condicion\n",
    "    \n",
    "    if(num<2): #Si el numero es menor a 2 no entra a mi for ya que los numeros menores a 1 no se consideran y 1 ya es primo\n",
    "        return False\n",
    "    \n",
    "    for i in range(2,num): # for que va de 2 hasta el numero que ingresa el usuario\n",
    "        if(num%i==0 and i!=num): #condicion para saber si el numero es o no primo. Si cumple con la consicion no es primo y return Falso\n",
    "            return False\n",
    "    return True #Si cumple con la condicion devuelve True y el numero\n",
    "\n",
    "if verificar(num):\n",
    "            print (\"\\nEl numero\",num,\"es primo\")\n",
    "else:\n",
    "            print (\"\\nEl numero\",num,\"no es primo\")"
   ]
  },
  {
   "cell_type": "markdown",
   "metadata": {},
   "source": [
    "### EJERCICIO 5\n",
    "- Utilizando diferentes clases en python, crea una calculadora con los operadores básicos de suma, resta, multiplicación, división, y exponente."
   ]
  },
  {
   "cell_type": "code",
   "execution_count": 2,
   "metadata": {},
   "outputs": [
    {
     "name": "stdout",
     "output_type": "stream",
     "text": [
      "---------- MENU DE OPCIONES ----------\n",
      " 1. Suma\n",
      " 2. Resta\n",
      " 3. Multiplicacion\n",
      " 4. Division \n",
      " 5. Exponencial\n",
      "--------------------------------------\n",
      "Seleccione una opcion-->2\n",
      "Introduzca un número:3\n",
      "Introduzca otro número: 1\n",
      "El resultado de la resta de 3 - 1 = 2\n",
      "El resultado de la resta de 1 + 3 = -2\n"
     ]
    }
   ],
   "source": [
    "#CODIGO PARA REALIZAR FUNCIONES DE UNA CALCULADORA USANDO FUNCIONES\n",
    "\n",
    "#Definimos las funciones de las operaciones a realizar,cada funcion regrese el resultado de la operacion\n",
    "#Funcion de suma\n",
    "def suma(n1,n2):\n",
    "    return n1+n2\n",
    "#Funcion de resta\n",
    "def resta(n1,n2):\n",
    "    return n1-n2\n",
    "def resta2(n1,n2):\n",
    "    return n2-n1\n",
    "#Funcion de Multiplicacion\n",
    "def mult(n1,n2):\n",
    "    return n1*n2\n",
    "#Funcion de Division\n",
    "def div(n1,n2):\n",
    "    return n1/n2\n",
    "def div2(n1,n2):\n",
    "    return n2/n1\n",
    "#Funcion de Exponencial \n",
    "def exp(n1,n2):\n",
    "    return n1**n2\n",
    "def exp2(n1,n2):\n",
    "    return n2**n1\n",
    "\n",
    "print(\"---------- MENU DE OPCIONES ----------\")\n",
    "print(\" 1. Suma\")\n",
    "print(\" 2. Resta\")\n",
    "print(\" 3. Multiplicacion\")\n",
    "print(\" 4. Division \")\n",
    "print(\" 5. Exponencial\")\n",
    "print(\"--------------------------------------\")\n",
    "op= int(input(\"Seleccione una opcion-->\"))  #Le pedimos al usuario que seleccione una opcion a realizar\n",
    "\n",
    "if (op>0 and op<6):\n",
    "    \n",
    "    #Le pedimos al usuario que el ingrese los numeros con los que realizara las operaciones\n",
    "    n1 = int(input(\"Introduzca un número:\" ))\n",
    "    n2 = int(input(\"Introduzca otro número: \"))\n",
    "    \n",
    "    if(op==1):\n",
    "        print(\"El resultado de la suma de\",n1,\"+\",n2,\"=\",suma(n1,n2))\n",
    "\n",
    "    elif(op==2):\n",
    "        print(\"El resultado de la resta de\",n1,\"-\",n2,\"=\",resta(n1,n2))\n",
    "        print(\"El resultado de la resta de\",n2,\"-\",n1,\"=\",resta2(n1,n2))\n",
    "          \n",
    "    elif(op==3):        \n",
    "        print(\"El resultado de la multiplicacion de\",n1,\"*\",n2,\"=\",mult(n1,n2))\n",
    "         \n",
    "    elif(op==4):\n",
    "        print(\"El resultado de la division de\",n1,\"/\",n2,\"=\",div(n1,n2))        \n",
    "        print(\"El resultado de la division de\",n2,\"/\",n1,\"=\",div2(n1,n2))\n",
    "    \n",
    "    elif(op==5):        \n",
    "        print(\"El resultado de la exponencial de\",n1,\"**\",n2,\"=\",exp(n1,n2))\n",
    "        print(\"El resultado de la exponencial de\",n2,\"**\",n1,\"=\",exp2(n1,n2))\n",
    "\n",
    "else:\n",
    "    print(\"opcion no valida\") #Validacion en caso de seleccionar una opcion que no esta\n",
    "    \n"
   ]
  },
  {
   "cell_type": "markdown",
   "metadata": {},
   "source": [
    "_________________________________________________________\n"
   ]
  },
  {
   "cell_type": "markdown",
   "metadata": {},
   "source": [
    "# Ejercicios con estructuras básicas de python.\n",
    "\n",
    "## TUPLAS"
   ]
  },
  {
   "cell_type": "markdown",
   "metadata": {},
   "source": [
    "#### Ejercicio 1\n",
    "- Crear una variable flotante, integer, boleana y compleja e imprimir el tipo de variable que es."
   ]
  },
  {
   "cell_type": "code",
   "execution_count": 29,
   "metadata": {},
   "outputs": [
    {
     "name": "stdout",
     "output_type": "stream",
     "text": [
      "----IMPRESION DEL TIPO DE VARIABLE QUE ES C/DATO----\n",
      "3.1416 --> Es una variable del tipo <class 'float'>\n",
      "10 --> Es una variable del tipo <class 'int'>\n",
      "True --> Es una variable del tipo <class 'bool'>\n",
      "(5+4j) --> Es una variable del tipo <class 'complex'>\n",
      "\n",
      "--------IMPRESION DEL TIPO DE VARIABLES DE UNA TUPLA--------\n",
      "3.1416 --> Es del tipo de dato <class 'float'>\n",
      "10 --> Es del tipo de dato <class 'int'>\n",
      "True --> Es del tipo de dato <class 'bool'>\n",
      "(5+4j) --> Es del tipo de dato <class 'complex'>\n"
     ]
    }
   ],
   "source": [
    "#Declaracion de variables\n",
    "f=3.1416   #variable flotante \n",
    "i=10       #variable entero\n",
    "b=True     #variable boleana\n",
    "c=5+4j    #variable compleja \n",
    "#Impresion del tipo de variables \n",
    "print(\"----IMPRESION DEL TIPO DE VARIABLE QUE ES C/DATO----\")\n",
    "print(f,\"--> Es una variable del tipo\",type(f))\n",
    "print(i,\"--> Es una variable del tipo\",type(i))\n",
    "print(b,\"--> Es una variable del tipo\",type(b))\n",
    "print(c,\"--> Es una variable del tipo\",type(c))\n",
    "\n",
    "\n",
    "#Impresion de las variables si estuvieran en una tupla\n",
    "print(\"\\n--------IMPRESION DEL TIPO DE VARIABLES DE UNA TUPLA--------\")\n",
    "Tupla_convar=[f,i,b,c]\n",
    "for i in range(len(Tupla_convar)): #For que lee cada dato de la tupla por posicion \n",
    "    print(Tupla_convar[i],\"--> Es del tipo de dato\",type(Tupla_convar[i])) #la funcion type sirve para saber el tipo de dato \n",
    "    "
   ]
  },
  {
   "cell_type": "markdown",
   "metadata": {},
   "source": [
    "#### Ejercicio 2\n",
    "- Crear una tupla con valores enteros imprimir el primer y ultimo valor."
   ]
  },
  {
   "cell_type": "code",
   "execution_count": 31,
   "metadata": {},
   "outputs": [
    {
     "name": "stdout",
     "output_type": "stream",
     "text": [
      "El 1er valor de la tupla es: 1\n",
      "El ultimo valor de la tupla es: 16\n"
     ]
    }
   ],
   "source": [
    "#Crear una tupla de numeros enteros\n",
    "tupla=[1,5,4,8,7,11,10,14,13,17,16]\n",
    "\n",
    "#para imprimir el primer valor de mi tupla\n",
    "print(\"El 1er valor de la tupla es:\",tupla[0])\n",
    "\n",
    "#para ver el ultimo valor de mi tupla\n",
    "print(\"El ultimo valor de la tupla es:\", tupla[-1])"
   ]
  },
  {
   "cell_type": "markdown",
   "metadata": {},
   "source": [
    "#### Ejercicio 3\n",
    "- Añadir 3 valores de string a la tupla."
   ]
  },
  {
   "cell_type": "code",
   "execution_count": 14,
   "metadata": {},
   "outputs": [
    {
     "name": "stdout",
     "output_type": "stream",
     "text": [
      "Ingrese un valor string: hoy\n",
      "Ingrese un valor string: camino\n",
      "Ingrese un valor string: rapido\n",
      "[1, 2, 3, 4, 'hoy', 'camino', 'rapido']\n",
      "[1, 2, 3, 4, 5, 'Hola', 'Camino', 'Adios']\n"
     ]
    }
   ],
   "source": [
    "tupla=[1,2,3,4] #Tupla creada \n",
    "i=1\n",
    "#FORMA 1- PIDIENDO A EL USUARIO QUE INGRESE LOS DATOS\n",
    "#Ciclo para ingresar los datos a la tupla inicia en 1 y es menor a 4, para asi ingresar solo 3 datos que pide \n",
    "while i < 4:\n",
    "    tupla.append(str(input(\"Ingrese un valor string: \")))  #se agrea la funcion str para validar que ingrese un string\n",
    "    i=i+1\n",
    "print(tupla)\n",
    "\n",
    "\n",
    "#FORMA 2- DEFINIENDO LOS DATOS QUE SE VAN A INGRESAR\n",
    "tupla2=[1,2,3,4,5]\n",
    "tupla2.append(\"Hola\")\n",
    "tupla2.append(\"Camino\")\n",
    "tupla2.append(\"Adios\")\n",
    "print(tupla2)\n",
    "                 "
   ]
  },
  {
   "cell_type": "markdown",
   "metadata": {},
   "source": [
    "#### Ejercicio 4\n",
    "- Verificar si una variable existe dentro de la tupla."
   ]
  },
  {
   "cell_type": "code",
   "execution_count": 16,
   "metadata": {},
   "outputs": [
    {
     "name": "stdout",
     "output_type": "stream",
     "text": [
      "El dato existe en la tupla\n"
     ]
    }
   ],
   "source": [
    "tuplaN=[1,2,3,4,5,6,7,'hola'] #Tupla Nueva\n",
    "\n",
    "#Declaramos una variable d que podemos modificar dependiendo del valor que busquemos \n",
    "d='hola'\n",
    "\n",
    "if d in tuplaN:  #Con la ayuda de un if y in verificamos si mi dato esta o no en la tupla\n",
    "        print(\"El dato existe en la tupla\")\n",
    "else:\n",
    "        print(\"El dato no existe en la tupla\")\n"
   ]
  },
  {
   "cell_type": "markdown",
   "metadata": {},
   "source": [
    "\n",
    "\n",
    "\n",
    "\n",
    "## Listas\n",
    "\n",
    "\n",
    "#### Ejercicio 1\n",
    "- Crear una lista con 40 elementos aleatorios enteros."
   ]
  },
  {
   "cell_type": "code",
   "execution_count": 57,
   "metadata": {},
   "outputs": [
    {
     "name": "stdout",
     "output_type": "stream",
     "text": [
      "[95, 55, 94, 28, 38, 8, 90, 92, 45, 37, 90, 99, 6, 90, 1, 55, 41, 55, 51, 97, 67, 61, 90, 89, 9, 28, 35, 9, 38, 67, 80, 12, 56, 90, 64, 80, 18, 26, 23, 58]\n"
     ]
    }
   ],
   "source": [
    "#URL: https://www.youtube.com/watch?v=0dBlq2cxwvA\n",
    "\n",
    "import random as r #incluir libreria\n",
    "lista_na=[] #declaramos una variable lista para guardar nuestros datos \n",
    "lista_na = [r.randint(1,100) for _ in range(40)] #se creo una lista de 40 numeros aleatorios entre 1 y 100\n",
    "print(lista_na)\n"
   ]
  },
  {
   "cell_type": "markdown",
   "metadata": {},
   "source": [
    "#### Ejercicio 2\n",
    "- Con una funcion (def) crear dos listas nuevas a partir de la lista creada por numeros aleatorios, en la cual en una esten los elementos pares, y en la otra los elementos impares."
   ]
  },
  {
   "cell_type": "code",
   "execution_count": 58,
   "metadata": {},
   "outputs": [
    {
     "name": "stdout",
     "output_type": "stream",
     "text": [
      "Lista de numeros pares:  [94, 28, 38, 8, 90, 92, 90, 6, 90, 90, 28, 38, 80, 12, 56, 90, 64, 80, 18, 26, 58]\n",
      "\n",
      " Lista de numeros impares: [95, 55, 45, 37, 99, 1, 55, 41, 55, 51, 97, 67, 61, 89, 9, 35, 9, 67, 23]\n"
     ]
    }
   ],
   "source": [
    "lista_na\n",
    "#declaro las listas donde agregare los valores pares e impares de la lista de numeros aleaotorios creada anteriormente\n",
    "#las listas estan vacias \n",
    "par=[] \n",
    "impar=[]\n",
    "\n",
    "for i in range(len(lista_na)):\n",
    "    if (lista_na[i] % 2 ==0):\n",
    "        par.insert(i,lista_na[i]) #si el dato que esta en la posicion i de mi lista cumple la condicion se inserta en mi lista impar\n",
    "    else: \n",
    "        impar.insert(i,lista_na[i])\n",
    "print(\"Lista de numeros pares: \",par)\n",
    "print(\"\\n Lista de numeros impares:\",impar)"
   ]
  },
  {
   "cell_type": "markdown",
   "metadata": {},
   "source": [
    "#### Ejercicio 3\n",
    "- Crea dos variables con la longitud de ambas listas nuevas e imrimir las variables."
   ]
  },
  {
   "cell_type": "code",
   "execution_count": 59,
   "metadata": {},
   "outputs": [
    {
     "name": "stdout",
     "output_type": "stream",
     "text": [
      "La lista de los numeros pares contiene 21 datos\n",
      "La lista de los numeros impares contiene 19 datos\n"
     ]
    }
   ],
   "source": [
    "long_par=len(par) #len me permite leer la cantidad de datos que tiene la lista par \n",
    "long_impar=len(impar)\n",
    "\n",
    "print(\"La lista de los numeros pares contiene\",long_par,\"datos\")\n",
    "print(\"La lista de los numeros impares contiene\",long_impar,\"datos\")\n"
   ]
  },
  {
   "cell_type": "markdown",
   "metadata": {},
   "source": [
    "#### Ejercicio 4\n",
    "- Ordenar los elementos de la lista par de mayor a menor, y los de la lista impar de menor a mayor."
   ]
  },
  {
   "cell_type": "code",
   "execution_count": 60,
   "metadata": {},
   "outputs": [
    {
     "name": "stdout",
     "output_type": "stream",
     "text": [
      "Lista de los numeros pares ordenada de mayor a menor:\n",
      " [58, 26, 18, 80, 64, 90, 56, 12, 80, 38, 28, 90, 90, 6, 90, 92, 90, 8, 38, 28, 94]\n",
      "\n",
      "Lista de los numeros impares ordenada de menor a mayor:\n",
      " [1, 9, 9, 23, 35, 37, 41, 45, 51, 55, 55, 55, 61, 67, 67, 89, 95, 97, 99]\n"
     ]
    }
   ],
   "source": [
    "#URL:https://uniwebsidad.com/libros/python/capitulo-7/metodos-de-orden\n",
    "\n",
    "par.reverse() #La funcion reverse permite ordenar una lista en reversa \n",
    "impar.sort()  #La funcion sort permite ordenar una lista de forma ascendente \n",
    "\n",
    "print(\"Lista de los numeros pares ordenada de mayor a menor:\\n\",par)\n",
    "print(\"\\nLista de los numeros impares ordenada de menor a mayor:\\n\",impar)\n"
   ]
  },
  {
   "cell_type": "markdown",
   "metadata": {},
   "source": [
    "#### Ejercicio 5\n",
    "- Utilizar al menos cuatro de las funciones de listas en python en la lista original de 40 elementos."
   ]
  },
  {
   "cell_type": "code",
   "execution_count": 61,
   "metadata": {},
   "outputs": [
    {
     "name": "stdout",
     "output_type": "stream",
     "text": [
      "Los datos de la lista original\n",
      " [95, 55, 94, 28, 38, 8, 90, 92, 45, 37, 90, 99, 6, 90, 1, 55, 41, 55, 51, 97, 67, 61, 90, 89, 9, 28, 35, 9, 38, 67, 80, 12, 56, 90, 64, 80, 18, 26, 23, 58]\n",
      "\n",
      "Los primeros 5 datos de la lista\n",
      " [95, 55, 94, 28, 38]\n",
      "\n",
      "La suma de los datos de la lista es: 2167\n",
      "\n",
      "La lista tiene 40 datos\n",
      "\n",
      "Lista duplicada\n",
      " [95, 55, 94, 28, 38, 8, 90, 92, 45, 37, 90, 99, 6, 90, 1, 55, 41, 55, 51, 97, 67, 61, 90, 89, 9, 28, 35, 9, 38, 67, 80, 12, 56, 90, 64, 80, 18, 26, 23, 58, 95, 55, 94, 28, 38, 8, 90, 92, 45, 37, 90, 99, 6, 90, 1, 55, 41, 55, 51, 97, 67, 61, 90, 89, 9, 28, 35, 9, 38, 67, 80, 12, 56, 90, 64, 80, 18, 26, 23, 58]\n",
      "\n",
      " Agregar datos nuevos a mi lista\n",
      " [95, 55, 94, 28, 38, 8, 90, 92, 45, 37, 90, 99, 6, 90, 1, 55, 41, 55, 51, 97, 67, 61, 90, 89, 9, 28, 35, 9, 38, 67, 80, 12, 56, 90, 64, 80, 18, 26, 23, 58, 'nuevo dato']\n"
     ]
    }
   ],
   "source": [
    "print(\"Los datos de la lista original\\n\",lista_na)\n",
    "\n",
    "#Para cortar una lista \n",
    "print(\"\\nLos primeros 5 datos de la lista\\n\",lista_na[0:5])\n",
    "\n",
    "#Para sumar los datos de la lista\n",
    "print(\"\\nLa suma de los datos de la lista es:\",sum(lista_na))\n",
    "\n",
    "#Para saber la longitud de la lista\n",
    "print(\"\\nLa lista tiene\",len(lista_na),\"datos\")\n",
    "\n",
    "#Para duplicar los datos de la lista con operaciones matematicas\n",
    "print(\"\\nLista duplicada\\n\",lista_na*2)\n",
    "\n",
    "#Para agregar un dato nuevo al final de la lista\n",
    "lista_na.append(\"nuevo dato\")\n",
    "print(\"\\n Agregar datos nuevos a mi lista\\n\",lista_na)"
   ]
  },
  {
   "cell_type": "markdown",
   "metadata": {},
   "source": [
    "## Diccionarios \n",
    "\n",
    "#### Ejercicio 1\n",
    "- Crear un diccionario de 6 personas que conozcas con su primer nombre y su edad."
   ]
  },
  {
   "cell_type": "code",
   "execution_count": 80,
   "metadata": {},
   "outputs": [
    {
     "name": "stdout",
     "output_type": "stream",
     "text": [
      "Diccionario\n",
      " {'Kelly': 16, 'Victor': 18, 'Karen': 15, 'Gina': 14, 'Mildred': 22, 'Andrea': 20}\n"
     ]
    }
   ],
   "source": [
    "#URL: https://devcode.la/tutoriales/diccionarios-en-python/\n",
    "\n",
    "diccionario={'Kelly':16,'Victor':18,'Karen':15,'Gina':14,'Mildred':22,'Andrea':20 }\n",
    "print(\"Diccionario\\n\",diccionario)"
   ]
  },
  {
   "cell_type": "markdown",
   "metadata": {},
   "source": [
    "#### Ejercicio 2\n",
    "- Crear una lista con los valores de la edad y reacomodar la lista de menor a mayor valor."
   ]
  },
  {
   "cell_type": "code",
   "execution_count": 81,
   "metadata": {},
   "outputs": [
    {
     "name": "stdout",
     "output_type": "stream",
     "text": [
      "dict_values([16, 18, 15, 14, 22, 20])\n",
      "Lista de las edades ordenada de menor a mayor\n",
      " [14, 15, 16, 18, 20, 22]\n"
     ]
    }
   ],
   "source": [
    "edades=diccionario.values()\n",
    "print(edades) #Visualizar que la variable edades contenga las edades\n",
    "\n",
    "#Reacomodamos la lista con la funcion sort de menor a mayor\n",
    "print(\"Lista de las edades ordenada de menor a mayor\\n\",sorted(edades))"
   ]
  },
  {
   "cell_type": "markdown",
   "metadata": {},
   "source": [
    "#### Ejercicio 3\n",
    "- Usando el diccionario y un loop, imprimir solo los nombres."
   ]
  },
  {
   "cell_type": "code",
   "execution_count": 85,
   "metadata": {},
   "outputs": [
    {
     "name": "stdout",
     "output_type": "stream",
     "text": [
      "Kelly\n",
      "Victor\n",
      "Karen\n",
      "Gina\n",
      "Mildred\n",
      "Andrea\n"
     ]
    }
   ],
   "source": [
    "#Ciclo que me imprime los nombres, se usa la funcion keys() para hacer referencia a el nombre \n",
    "#nombre es nuestro dato clave en el diccionario por eso usamos funcion keys()\n",
    "for i in diccionario.keys():\n",
    "    print(i)\n",
    "    "
   ]
  },
  {
   "cell_type": "markdown",
   "metadata": {},
   "source": [
    "#### Ejercicio 4\n",
    "- Añadir dos personas nuevas a tu diccionario, incluyendo edad."
   ]
  },
  {
   "cell_type": "code",
   "execution_count": 89,
   "metadata": {},
   "outputs": [
    {
     "name": "stdout",
     "output_type": "stream",
     "text": [
      "{'Kelly': 16, 'Victor': 18, 'Karen': 15, 'Gina': 14, 'Mildred': 22, 'Andrea': 20, 'Lorraine': 17, 'Aldahir': 19}\n"
     ]
    }
   ],
   "source": [
    "#Agregaremos nuevas personas con la funcion setdefault() y valor \n",
    "print(diccionario)\n",
    "\n",
    "valor=diccionario.setdefault('Lorraine',17)\n",
    "valor=diccionario.setdefault('Aldahir',19)"
   ]
  },
  {
   "cell_type": "markdown",
   "metadata": {},
   "source": [
    "## Sets\n",
    "\n",
    "#### Ejercicio 1\n",
    "- Crea un set con 100 numeros aleatorios enteros del 1 al 25.\n",
    "\n"
   ]
  },
  {
   "cell_type": "code",
   "execution_count": 18,
   "metadata": {},
   "outputs": [
    {
     "name": "stdout",
     "output_type": "stream",
     "text": [
      "Set con 100 numeros\n",
      " [13, 9, 11, 17, 15, 21, 6, 5, 25, 3, 23, 15, 10, 23, 20, 12, 8, 16, 21, 10, 17, 9, 21, 17, 23, 25, 2, 2, 2, 12, 18, 14, 5, 11, 4, 23, 11, 22, 9, 18, 21, 8, 1, 10, 14, 22, 11, 25, 10, 18, 13, 3, 2, 16, 2, 14, 6, 20, 18, 17, 24, 5, 14, 15, 21, 25, 15, 5, 10, 15, 16, 21, 15, 17, 2, 19, 12, 1, 17, 22, 5, 17, 19, 18, 22, 21, 22, 21, 8, 6, 23, 3, 6, 23, 14, 1, 7, 15, 22, 6]\n"
     ]
    }
   ],
   "source": [
    "import random as r #incluir libreria\n",
    "s=set() #declaramos una variable set para guardar nuestros datos \n",
    "s = [r.randint(1,25) for _ in range(100)] #se crea un set de 40 numeros aleatorios entre 1 y 100 sifuendo la metodologia de listas\n",
    "print(\"Set con 100 numeros\\n\",s)"
   ]
  },
  {
   "cell_type": "markdown",
   "metadata": {},
   "source": [
    "#### Ejercicio 2\n",
    "\n",
    "- Comprueba la longitud de tu set."
   ]
  },
  {
   "cell_type": "code",
   "execution_count": 19,
   "metadata": {},
   "outputs": [
    {
     "name": "stdout",
     "output_type": "stream",
     "text": [
      "El set tiene 100 datos\n"
     ]
    }
   ],
   "source": [
    "longset=len(s) #Declaro una funcion que es igual a la funcion len(s) que esta permite leer la longitud de mi set \n",
    "print(\"El set tiene\",longset,\"datos\")"
   ]
  },
  {
   "cell_type": "markdown",
   "metadata": {},
   "source": [
    "#### Ejercicio 3\n",
    "\n",
    "- Crea una lista de 5 numeros aleatorios del 1 al 10 y comprueba si cada valor aparece en el set inicial."
   ]
  },
  {
   "cell_type": "code",
   "execution_count": 20,
   "metadata": {},
   "outputs": [
    {
     "name": "stdout",
     "output_type": "stream",
     "text": [
      "Lista Original\n",
      " [13, 9, 11, 17, 15, 21, 6, 5, 25, 3, 23, 15, 10, 23, 20, 12, 8, 16, 21, 10, 17, 9, 21, 17, 23, 25, 2, 2, 2, 12, 18, 14, 5, 11, 4, 23, 11, 22, 9, 18, 21, 8, 1, 10, 14, 22, 11, 25, 10, 18, 13, 3, 2, 16, 2, 14, 6, 20, 18, 17, 24, 5, 14, 15, 21, 25, 15, 5, 10, 15, 16, 21, 15, 17, 2, 19, 12, 1, 17, 22, 5, 17, 19, 18, 22, 21, 22, 21, 8, 6, 23, 3, 6, 23, 14, 1, 7, 15, 22, 6]\n",
      "\n",
      "Lista Nueva\n",
      " [3, 5, 2, 10, 6]\n",
      "\n",
      "\n",
      "El valor 3 de la nueva serie aparece en la serie original\n",
      "El valor 5 de la nueva serie aparece en la serie original\n",
      "El valor 2 de la nueva serie aparece en la serie original\n",
      "El valor 10 de la nueva serie aparece en la serie original\n",
      "El valor 6 de la nueva serie aparece en la serie original\n"
     ]
    }
   ],
   "source": [
    "print(\"Lista Original\\n\",s)\n",
    "\n",
    "sN=set() #declaramos una variable set para guardar nuestros datos \n",
    "sN = [r.randint(1,10) for _ in range(5)]  #La variable sN va a guardar mediante un for 5 datos aleatorios que van de 1 a 10\n",
    "print(\"\\nLista Nueva\\n\",sN)\n",
    "print(\"\\n\")\n",
    "for i in sN: #Mediante un for y un in voy a verificar si el dato de mi nuevo set esta en el set original \n",
    "    if i in s:\n",
    "        print(\"El valor\",i,\"de la nueva serie aparece en la serie original\")\n",
    "    else:\n",
    "        print(\"El valor\",i,\"de la nueva serie NO aparece en la serie original\")"
   ]
  },
  {
   "cell_type": "code",
   "execution_count": null,
   "metadata": {},
   "outputs": [],
   "source": []
  }
 ],
 "metadata": {
  "kernelspec": {
   "display_name": "Python 3",
   "language": "python",
   "name": "python3"
  },
  "language_info": {
   "codemirror_mode": {
    "name": "ipython",
    "version": 3
   },
   "file_extension": ".py",
   "mimetype": "text/x-python",
   "name": "python",
   "nbconvert_exporter": "python",
   "pygments_lexer": "ipython3",
   "version": "3.8.3"
  }
 },
 "nbformat": 4,
 "nbformat_minor": 4
}
